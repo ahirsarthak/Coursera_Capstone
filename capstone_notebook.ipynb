
#%% md

<h1>This notebook will be used for the capstone project</h1>

#%%

import pandas as pd,numpy as np

#%%

print('Hello Capstone Project Course!')
